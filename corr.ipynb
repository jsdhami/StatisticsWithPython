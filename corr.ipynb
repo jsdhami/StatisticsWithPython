{
 "cells": [
  {
   "cell_type": "code",
   "execution_count": null,
   "metadata": {},
   "outputs": [],
   "source": [
    "# What is correletion between two variables?\n",
    "# Correlation is a statistical measure that describes the association between random variables.\n",
    "# In this example we will use numpy and matplotlib to calculate and visualize the correlation between two variables.\n",
    "# We will use numpy to generate random data and matplotlib to visualize the data.\n",
    "# We will use the numpy.corrcoef() function to calculate the correlation between two variables."
   ]
  },
  {
   "cell_type": "code",
   "execution_count": 2,
   "metadata": {},
   "outputs": [
    {
     "name": "stdout",
     "output_type": "stream",
     "text": [
      "   R1  R2\n",
      "0   4   2\n",
      "1   6   3\n",
      "2   3   4\n",
      "3   9   9\n",
      "4   1   5\n",
      "5   5   7\n",
      "6   2   1\n",
      "7   7  10\n",
      "8  10   8\n",
      "9   8   6\n"
     ]
    }
   ],
   "source": [
    "# importing the required libraries\n",
    "import numpy as np\n",
    "import pandas as pd\n",
    "import matplotlib.pyplot as plt\n",
    "\n",
    "# read the data from the file name tvObs.csv\n",
    "data = pd.read_csv('./data/tvObs.csv')\n",
    "\n",
    "print(data)\n",
    "\n"
   ]
  },
  {
   "cell_type": "code",
   "execution_count": 3,
   "metadata": {},
   "outputs": [
    {
     "name": "stdout",
     "output_type": "stream",
     "text": [
      "Correlation between R1 and R2: 0.6848484848484848\n"
     ]
    }
   ],
   "source": [
    "# We have already read the data from file tvObs.csv and stored it in the variable data.\n",
    "\n",
    "\n",
    "# We will now calculate the correlation between the two variables\n",
    "\n",
    "# calculate the correlation between the two variables\n",
    "correlation = data['R1'].corr(data['R2'])\n",
    "\n",
    "# print the correlation\n",
    "print('Correlation between R1 and R2:', correlation)\n"
   ]
  }
 ],
 "metadata": {
  "kernelspec": {
   "display_name": "Python 3",
   "language": "python",
   "name": "python3"
  },
  "language_info": {
   "codemirror_mode": {
    "name": "ipython",
    "version": 3
   },
   "file_extension": ".py",
   "mimetype": "text/x-python",
   "name": "python",
   "nbconvert_exporter": "python",
   "pygments_lexer": "ipython3",
   "version": "3.10.13"
  }
 },
 "nbformat": 4,
 "nbformat_minor": 2
}
