{
 "cells": [
  {
   "cell_type": "markdown",
   "metadata": {},
   "source": [
    "## Method of Data Modeling\n",
    "---------------\n",
    "- Here, data modeling refers to the process of creating a mathematical representation of the relationship between variables in your data. This representation, often in the form of an equation or a set of equations, helps you understand the underlying structure of your data and make predictions or draw inferences.\n",
    "\n",
    "### Regression \n",
    "-------------------\n",
    "- Regression analysis is a powerful statistical technique used to model the relationship between a dependent variable (often called the outcome or response variable) and one or more independent variables (also known as predictors, explanatory variables, or features).\n",
    "\n",
    "#### Types of Regression\n",
    "##### Linear Regression\n",
    "- The most common type, assumes a linear relationship between the independent and dependent variables. It estimates a straight line that best fits the data points.\n",
    "Example: Modeling how house prices (dependent) change with factors like size (independent) and location (independent)\n",
    "\n",
    "##### Non-Linear Regression\n",
    "- Used when the relationship is not linear. It can model more complex curved or exponential relationships.\n",
    "Example: Predicting population growth over time (which often follows an exponential curve).\n",
    "\n",
    "##### Logistic Regression\n",
    "- Used when the dependent variable is categorical (e.g., yes/no, pass/fail). It predicts the probability of belonging to a particular category based on independent variables.\n",
    "Example: Predicting customer churn (will they leave or stay?) based on purchase history and demographics.\n",
    "\n",
    "#### Application Of Regression\n",
    "Regression is widely used in various fields, including:\n",
    "- Finance: Predicting stock prices, analyzing market trends.\n",
    "- Marketing: Understanding customer behavior, optimizing advertising campaigns.\n",
    "- Healthcare: Disease diagnosis, predicting patient outcomes.\n",
    "- Social Sciences: Modeling social phenomena, understanding economic trends.\n",
    "\n",
    "#### Benefits of Regression\n",
    "- Explanatory Power: Explains how changes in independent variables influence the dependent variable.\n",
    "- Prediction: Allows you to make predictions about the dependent variable based on values of independent variables.\n",
    "- Insights: Helps identify significant relationships between variables.\n",
    "\n",
    "\n"
   ]
  },
  {
   "cell_type": "code",
   "execution_count": 1,
   "metadata": {},
   "outputs": [],
   "source": [
    "# Here, code for the finding the regression line for the given data set is written.\n",
    "\n",
    "# importing all the required python libraries\n",
    "import numpy as np\n",
    "import pandas as pd\n",
    "from sklearn.linear_model import LinearRegression\n",
    "import matplotlib.pyplot as plt"
   ]
  },
  {
   "cell_type": "code",
   "execution_count": 10,
   "metadata": {},
   "outputs": [
    {
     "data": {
      "image/png": "[encoded data removed]",
      "text/plain": [
       "<Figure size 640x480 with 1 Axes>"
      ]
     },
     "metadata": {},
     "output_type": "display_data"
    },
    {
     "name": "stdout",
     "output_type": "stream",
     "text": [
      "Slope:  [[0.4550191]]\n",
      "Intercept:  [111.28343175]\n",
      "Mean Squared Error:  176.62382771795762\n",
      "Score:  0.05009033832358922\n",
      "Predicted pressure Value for a person of age 60 :  [[138.58457798]]\n",
      "Predicted pressure Value for a person of age 6 :  [[114.01354637]]\n"
     ]
    }
   ],
   "source": [
    "# read data from the file\n",
    "data = pd.read_csv('./data/bp.csv')\n",
    "x = data['ages']\n",
    "y = data['pressure']\n",
    "\n",
    "# reshape the data\n",
    "x = x.values.reshape(-1,1)\n",
    "y = y.values.reshape(-1,1)\n",
    "\n",
    "# create a linear regression model\n",
    "model = LinearRegression()\n",
    "model.fit(x, y)\n",
    "\n",
    "# plot the data points\n",
    "plt.scatter(x, y, color='blue')\n",
    "\n",
    "# plot the regression line\n",
    "plt.plot(x, model.predict(x), color='red')\n",
    "\n",
    "# add labels\n",
    "plt.xlabel('Age')\n",
    "plt.ylabel('Blood Pressure')\n",
    "plt.title('Regression Line')\n",
    "plt.show()\n",
    "\n",
    "# print the slope and intercept of the regression line\n",
    "print('Slope: ', model.coef_)\n",
    "print('Intercept: ', model.intercept_)\n",
    "\n",
    "# print the mean squared error\n",
    "print('Mean Squared Error: ', np.mean((model.predict(x) - y) ** 2))\n",
    "\n",
    "# print the score of the model\n",
    "print('Score: ', model.score(x, y))\n",
    "\n",
    "# print the predicted value of blood pressure for a person of age 60\n",
    "print('Predicted pressure Value for a person of age 60 : ', model.predict([[60]]))\n",
    "\n",
    "# print the predicted value of blood pressure for a person of age 61\n",
    "print('Predicted pressure Value for a person of age 6 : ', model.predict([[6]]))\n",
    "\n",
    "\n",
    "\n",
    "\n",
    "\n",
    "\n"
   ]
  }
 ],
 "metadata": {
  "kernelspec": {
   "display_name": "Python 3",
   "language": "python",
   "name": "python3"
  },
  "language_info": {
   "codemirror_mode": {
    "name": "ipython",
    "version": 3
   },
   "file_extension": ".py",
   "mimetype": "text/x-python",
   "name": "python",
   "nbconvert_exporter": "python",
   "pygments_lexer": "ipython3",
   "version": "3.10.13"
  }
 },
 "nbformat": 4,
 "nbformat_minor": 2
}
