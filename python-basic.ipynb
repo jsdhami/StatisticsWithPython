{
 "cells": [
  {
   "cell_type": "markdown",
   "metadata": {},
   "source": [
    "## Python Core and OOPs Concepts "
   ]
  },
  {
   "cell_type": "code",
   "execution_count": 1,
   "metadata": {
    "metadata": {}
   },
   "outputs": [
    {
     "name": "stdout",
     "output_type": "stream",
     "text": [
      "Hello World\n"
     ]
    }
   ],
   "source": [
    "print(\"Hello World\")"
   ]
  },
  {
   "cell_type": "markdown",
   "metadata": {},
   "source": [
    "Why To Choose Python ?\n",
    "- World wide popular programming language\n",
    "- high level programming language\n",
    "- light weight and wide community support\n",
    "- open source programming language\n"
   ]
  },
  {
   "cell_type": "markdown",
   "metadata": {},
   "source": [
    "Main Topics in Python\n",
    "- Variables, Constant and Data Types\n",
    "- Keywords, comments and Operators \n",
    "- Conditional statement and Loops\n",
    "- Switch cases\n",
    "- Data Structure and Array\n",
    "- Try Except\n",
    "- Functions\n",
    "- File Handling \n",
    "- OOPs Concept [Object Oriented Programming]\n",
    "- Modules/Package/Framework"
   ]
  },
  {
   "cell_type": "code",
   "execution_count": null,
   "metadata": {},
   "outputs": [],
   "source": []
  }
 ],
 "metadata": {
  "kernelspec": {
   "display_name": "Python 3",
   "language": "python",
   "name": "python3"
  },
  "language_info": {
   "codemirror_mode": {
    "name": "ipython",
    "version": 3
   },
   "file_extension": ".py",
   "mimetype": "text/x-python",
   "name": "python",
   "nbconvert_exporter": "python",
   "pygments_lexer": "ipython3",
   "version": "3.10.13"
  }
 },
 "nbformat": 4,
 "nbformat_minor": 2
}
